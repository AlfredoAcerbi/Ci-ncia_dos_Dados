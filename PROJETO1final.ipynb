{
 "cells": [
  {
   "cell_type": "markdown",
   "metadata": {},
   "source": [
    "# Ciência dos Dados - PROJETO 1"
   ]
  },
  {
   "cell_type": "markdown",
   "metadata": {},
   "source": [
    "## Alfredo Simões Cassiano Acerbi"
   ]
  },
  {
   "cell_type": "markdown",
   "metadata": {},
   "source": [
    "## COMPARANDO A SEGURANÇA ALIMENTAR ENTRE RORAIMA E SÃO PAULO"
   ]
  },
  {
   "cell_type": "markdown",
   "metadata": {},
   "source": [
    "## Introdução\n",
    "\n",
    "Meu projeto tem como objetivo comparar a situação alimentar da população dos estados de São Paulo e Roraima, respectivamente o maior e menor PIB do Brasil em 2013. Tendo em vista que o PIB pode ser considerado um bom indicador da pobreza e riqueza de um estado, pretendo entender como estes estados tão diferentes se comparam nesse aspecto da alimentação.\n",
    "\n",
    "O projeto foi dividido em 3 partes, cada uma procurando responder certas perguntas.\n",
    "\n",
    "A primeira parte responde a pergunta \"Em qual dos dois estados os habitantes sofrem mais com a insegurança alimentar (já ficaram sem dinheiro para alimentaremm-se bem)? Como isso variou de 2009 para 2013?\"\n",
    "\n",
    "A segunda parte responde \"Qual foi a diferença entre as atitudes tomadas pelos habitantes dos dois estados ao depararem-se com a falta de dinheiro para alimentarem-se?\"\n",
    "\n",
    "Por fim, a terceira parte responde \"Como se caracterizam os domicilios estudados em cada estado, ou seja, como eles se diferenciam em relação a renda mensal per capita e presença de água canalizada? Estes fatores podem ter relação com a qualidade alimentar?\""
   ]
  },
  {
   "cell_type": "markdown",
   "metadata": {},
   "source": [
    "## Preparação do código"
   ]
  },
  {
   "cell_type": "code",
   "execution_count": 351,
   "metadata": {
    "collapsed": true
   },
   "outputs": [],
   "source": [
    "%matplotlib inline\n",
    "import pandas as pd\n",
    "import matplotlib.pyplot as plt\n",
    "import numpy as np\n",
    "import os"
   ]
  },
  {
   "cell_type": "code",
   "execution_count": 352,
   "metadata": {
    "collapsed": true,
    "scrolled": true
   },
   "outputs": [],
   "source": [
    "#PNADs\n",
    "arq = pd.read_csv('DOM2013_11.csv')\n",
    "arq2009 = pd.read_csv('DOM2009_11.csv')\n"
   ]
  },
  {
   "cell_type": "code",
   "execution_count": 353,
   "metadata": {
    "collapsed": true
   },
   "outputs": [],
   "source": [
    "#criação da variável SM (renda em quantidade de salários mínimos) em 2013\n",
    "arq['SM'] = (arq.V4621)/678\n",
    "#criação da variável SM (renda em quantidade de salários mínimos) em 2009\n",
    "arq2009['SM'] = (arq2009.V4621)/465\n"
   ]
  },
  {
   "cell_type": "code",
   "execution_count": 354,
   "metadata": {
    "collapsed": true,
    "scrolled": true
   },
   "outputs": [],
   "source": [
    "#filtrando a PNAD2013 para os estados de SP e RO, e também apenas para quem já ficou sem dinheiro para alimentação saudável\n",
    "\n",
    "df = arq.loc[((arq.UF == 14)|(arq.UF == 35)) & (arq.V2107 == 1) & (arq.V4621<500000), ['UF', 'V4621', 'SM', 'V0211', 'V2107','V2138']]\n",
    "\n",
    "df.columns = ['UF', 'RENDIMENTO', 'Rendimento_mensal_per_capita_por_SM', 'Agua_canalizada', 'Ficar_sem_din_p_alimentação_saudável', 'Principal_atitude']\n",
    "\n",
    "#filtrando a PNAD2009 para os estados de SP e RO, e também apenas para quem já ficou sem dinheiro para alimentação saudável\n",
    "\n",
    "df2009 = arq2009.loc[((arq2009.UF == 14)|(arq2009.UF == 35)) & (arq2009.V2107 == 1)  & (arq2009.V4621<500000), ['UF', 'V4621', 'SM', 'V0211', 'V2107']]\n",
    "\n",
    "df2009.columns = ['UF', 'RENDIMENTO', 'Rendimento_mensal_per_capita_por_SM',  'Agua_canalizada', 'Ficar_sem_din_p_alimentação_saudável']\n",
    "\n",
    "\n"
   ]
  },
  {
   "cell_type": "code",
   "execution_count": 355,
   "metadata": {
    "collapsed": true
   },
   "outputs": [],
   "source": [
    "#nomeando as colunas para o dataframe2013\n",
    "\n",
    "df.loc[df.UF == 14,'ESTADO'] = 'Roraima' \n",
    "df.loc[df.UF == 35,'ESTADO'] = 'São Paulo' \n",
    "df.loc[df.Ficar_sem_din_p_alimentação_saudável == 1 , 'Ficar_sem_din_p_alimentação_saudável'] = 'Sim' \n",
    "df.loc[df.Ficar_sem_din_p_alimentação_saudável == 3 , 'Ficar_sem_din_p_alimentação_saudável'] = 'Não'\n",
    "df.loc[df.Agua_canalizada == 1 , 'Agua_canalizada'] = 'Sim'\n",
    "df.loc[df.Agua_canalizada == 3 , 'Agua_canalizada'] = 'Não'\n",
    "\n",
    "#nomeando as colunas para o dataframe2009\n",
    "\n",
    "df2009.loc[df2009.UF == 14,'ESTADO'] = 'Roraima' \n",
    "df2009.loc[df2009.UF == 35,'ESTADO'] = 'São Paulo' \n",
    "df2009.loc[df2009.Ficar_sem_din_p_alimentação_saudável == 1 , 'Ficar_sem_din_p_alimentação_saudável'] = 'Sim' \n",
    "df2009.loc[df2009.Ficar_sem_din_p_alimentação_saudável == 3 , 'Ficar_sem_din_p_alimentação_saudável'] = 'Não' \n",
    "df2009.loc[df2009.Agua_canalizada == 1 , 'Agua_canalizada'] = 'Sim'\n",
    "df2009.loc[df2009.Agua_canalizada == 3 , 'Agua_canalizada'] = 'Não'"
   ]
  },
  {
   "cell_type": "markdown",
   "metadata": {},
   "source": [
    "## ANÁLISES\n",
    "\n",
    "## Parte 1 - Dificuldade financeira para manter alimentação saudável em 2009 e 2013"
   ]
  },
  {
   "cell_type": "code",
   "execution_count": 356,
   "metadata": {},
   "outputs": [
    {
     "data": {
      "text/plain": [
       "35    864\n",
       "14    186\n",
       "Name: UF, dtype: int64"
      ]
     },
     "execution_count": 356,
     "metadata": {},
     "output_type": "execute_result"
    }
   ],
   "source": [
    "df.UF.value_counts()\n",
    "#186 pessoas entrevistadas de RO ficaram sem dinheiro para alimentação saudável, enquanto esse numero foi de 864 em SP em 2013"
   ]
  },
  {
   "cell_type": "code",
   "execution_count": 357,
   "metadata": {},
   "outputs": [
    {
     "data": {
      "text/plain": [
       "35    1723\n",
       "14     221\n",
       "Name: UF, dtype: int64"
      ]
     },
     "execution_count": 357,
     "metadata": {},
     "output_type": "execute_result"
    }
   ],
   "source": [
    "df2009.UF.value_counts()\n",
    "#221 pessoas entrevistadas de RO ficaram sem dinheiro para alimentação saudável, enquanto esse numero foi de 1723 em SP em 2009"
   ]
  },
  {
   "cell_type": "code",
   "execution_count": 358,
   "metadata": {
    "scrolled": true
   },
   "outputs": [
    {
     "data": {
      "text/plain": [
       "35    16967\n",
       "31    13566\n",
       "43    12263\n",
       "29    11678\n",
       "33    11169\n",
       "26     9004\n",
       "15     8628\n",
       "23     7683\n",
       "41     7443\n",
       "52     6561\n",
       "42     4406\n",
       "13     3786\n",
       "53     3592\n",
       "51     3145\n",
       "21     3144\n",
       "32     3062\n",
       "11     2836\n",
       "50     2681\n",
       "17     2490\n",
       "28     2460\n",
       "25     2379\n",
       "22     2195\n",
       "24     2085\n",
       "27     1995\n",
       "12     1559\n",
       "14      985\n",
       "16      935\n",
       "Name: UF, dtype: int64"
      ]
     },
     "execution_count": 358,
     "metadata": {},
     "output_type": "execute_result"
    }
   ],
   "source": [
    "arq.UF.value_counts()\n",
    "#985 pessoas foram entrevistadas em RO e 16967 foram entrevistadas em SP em 2013"
   ]
  },
  {
   "cell_type": "code",
   "execution_count": 359,
   "metadata": {
    "scrolled": true
   },
   "outputs": [
    {
     "data": {
      "text/plain": [
       "35    18030\n",
       "31    14415\n",
       "29    14217\n",
       "43    12487\n",
       "33    12160\n",
       "26     9415\n",
       "23     9035\n",
       "41     7605\n",
       "15     7568\n",
       "52     7049\n",
       "42     4172\n",
       "53     4014\n",
       "51     3294\n",
       "13     3061\n",
       "32     3047\n",
       "50     2988\n",
       "25     2630\n",
       "11     2456\n",
       "21     2335\n",
       "24     2333\n",
       "28     2230\n",
       "17     2101\n",
       "27     2040\n",
       "22     2008\n",
       "12     1408\n",
       "16      921\n",
       "14      818\n",
       "Name: UF, dtype: int64"
      ]
     },
     "execution_count": 359,
     "metadata": {},
     "output_type": "execute_result"
    }
   ],
   "source": [
    "arq2009.UF.value_counts()\n",
    "\n",
    "#818 pessoas foram entrevistadas em RO e 18030 foram entrevistadas em SP em 2009"
   ]
  },
  {
   "cell_type": "code",
   "execution_count": 360,
   "metadata": {},
   "outputs": [
    {
     "name": "stdout",
     "output_type": "stream",
     "text": [
      "A % dos entrevistados de RO que já ficaram sem $ para se alimentar de maneira saudável em 2013 é 18.883248730964468\n"
     ]
    }
   ],
   "source": [
    "x = (186*100)/985\n",
    "print(\"A % dos entrevistados de RO que já ficaram sem $ para se alimentar de maneira saudável em 2013 é {0}\" .format(x))"
   ]
  },
  {
   "cell_type": "code",
   "execution_count": 361,
   "metadata": {},
   "outputs": [
    {
     "name": "stdout",
     "output_type": "stream",
     "text": [
      "A % dos entrevistados de SP que já ficaram sem $ para se alimentar de maneira saudável em 2013 é 5.498909648140508\n"
     ]
    }
   ],
   "source": [
    "y = (933*100)/16967\n",
    "print(\"A % dos entrevistados de SP que já ficaram sem $ para se alimentar de maneira saudável em 2013 é {0}\" .format(y))"
   ]
  },
  {
   "cell_type": "code",
   "execution_count": 362,
   "metadata": {},
   "outputs": [
    {
     "name": "stdout",
     "output_type": "stream",
     "text": [
      "A % dos entrevistados de RO que já ficaram sem $ para se alimentar de maneira saudável em 2009 é 27.017114914425427\n"
     ]
    }
   ],
   "source": [
    "x2 = (221*100)/818\n",
    "print(\"A % dos entrevistados de RO que já ficaram sem $ para se alimentar de maneira saudável em 2009 é {0}\" .format(x2))"
   ]
  },
  {
   "cell_type": "code",
   "execution_count": 363,
   "metadata": {},
   "outputs": [
    {
     "name": "stdout",
     "output_type": "stream",
     "text": [
      "A % dos entrevistados de SP que já ficaram sem $ para se alimentar de maneira saudável em 2009 é 9.556295063782585\n"
     ]
    }
   ],
   "source": [
    "y2 = ( 1723*100)/18030\n",
    "print(\"A % dos entrevistados de SP que já ficaram sem $ para se alimentar de maneira saudável em 2009 é {0}\" .format(y2))"
   ]
  },
  {
   "cell_type": "markdown",
   "metadata": {},
   "source": [
    "### Os dados acima mostram algo impactante, pois o percentual de entrevistados já ficaram sem dinheiro para se alimentar de maneira saudável é muito maior em Roraima. Também mostra uma grande variação entre 2009 e 2013. Vamos vizualizar melhor isso em 4 gráficos"
   ]
  },
  {
   "cell_type": "code",
   "execution_count": 364,
   "metadata": {},
   "outputs": [
    {
     "data": {
      "image/png": "[encoded data removed]",
      "text/plain": [
       "<matplotlib.figure.Figure at 0x1998a606780>"
      ]
     },
     "metadata": {},
     "output_type": "display_data"
    },
    {
     "data": {
      "image/png": "[encoded data removed]",
      "text/plain": [
       "<matplotlib.figure.Figure at 0x199899d22b0>"
      ]
     },
     "metadata": {},
     "output_type": "display_data"
    },
    {
     "data": {
      "image/png": "[encoded data removed]",
      "text/plain": [
       "<matplotlib.figure.Figure at 0x199899db208>"
      ]
     },
     "metadata": {},
     "output_type": "display_data"
    },
    {
     "data": {
      "image/png": "[encoded data removed]",
      "text/plain": [
       "<matplotlib.figure.Figure at 0x199897ebda0>"
      ]
     },
     "metadata": {},
     "output_type": "display_data"
    }
   ],
   "source": [
    "\n",
    "labels = 'Não', 'Sim'\n",
    "sizes = [72.98288508557457,  27.017114914425427]\n",
    "fig1, ax1 = plt.subplots()\n",
    "ax1.pie(sizes, labels=labels, autopct='%1.1f%%',\n",
    "        shadow=True, startangle=90)\n",
    "ax1.axis('equal')  \n",
    "\n",
    "plt.title(\" % dos entrevistados de RO que já ficaram sem $ para se alimentar de maneira saudável em 2009\")\n",
    "plt.show()\n",
    "\n",
    "\n",
    "\n",
    "labels = 'Não', 'Sim'\n",
    "sizes = [81.11675126903553, 18.883248730964468]\n",
    "fig1, ax1 = plt.subplots()\n",
    "ax1.pie(sizes, labels=labels, autopct='%1.1f%%',\n",
    "        shadow=True, startangle=90)\n",
    "ax1.axis('equal')  \n",
    "\n",
    "plt.title(\" % dos entrevistados de RO que já ficaram sem $ para se alimentar de maneira saudável em 2013\")\n",
    "plt.show()\n",
    "\n",
    "\n",
    "\n",
    "\n",
    "labels = 'Não', 'Sim'\n",
    "sizes = [90.44370493621742,  9.556295063782585]\n",
    "fig1, ax1 = plt.subplots()\n",
    "ax1.pie(sizes, labels=labels, autopct='%1.1f%%',\n",
    "        shadow=True, startangle=90)\n",
    "ax1.axis('equal')  \n",
    "\n",
    "plt.title(\" % dos entrevistados de SP que já ficaram sem $ para se alimentar de maneira saudável em 2009\")\n",
    "plt.show()\n",
    "\n",
    "\n",
    "\n",
    "\n",
    "\n",
    "labels = 'Não', 'Sim'\n",
    "sizes = [94.50109035185949, 5.498909648140508]\n",
    "fig1, ax1 = plt.subplots()\n",
    "ax1.pie(sizes, labels=labels, autopct='%1.1f%%',\n",
    "        shadow=True, startangle=90)\n",
    "ax1.axis('equal')  \n",
    "\n",
    "plt.title(\" % dos entrevistados de SP que já ficaram sem $ para se alimentar de maneira saudável em 2013\")\n",
    "plt.show()\n"
   ]
  },
  {
   "cell_type": "markdown",
   "metadata": {},
   "source": [
    "### Conclusão parcial Parte 1:\n",
    "\n",
    "### Em ambos os estados, houve, de 2009 a 2013, uma diminuição no percentual de pessoas que deixaram de se alimentar de maneira saudável por não ter dinheiro. Porém, a diferença de pessoas que passam por essa situação é avassaladora: enquanto em SP o percentual foi de 9.9% (2009) para 5.5%(2013), em RO o numero era 27.3%(2009) e caiu para 19.2%"
   ]
  },
  {
   "cell_type": "markdown",
   "metadata": {},
   "source": [
    "\n",
    "\n",
    "\n",
    "\n",
    "## Parte 2 - Vamos agora procurar saber melhor como agiram os que sofreram com falta de dinheiro para se alimentar  (apenas em 2013, pois a PNAD de 2009 não trabalhou com isso\n"
   ]
  },
  {
   "cell_type": "code",
   "execution_count": 365,
   "metadata": {
    "scrolled": false
   },
   "outputs": [
    {
     "data": {
      "text/plain": [
       "1.0     181\n",
       "3.0     106\n",
       "4.0      77\n",
       "15.0     60\n",
       "14.0     38\n",
       "5.0      32\n",
       "9.0      31\n",
       "2.0      23\n",
       "12.0     21\n",
       "10.0     18\n",
       "6.0      13\n",
       "11.0      5\n",
       "13.0      4\n",
       "7.0       4\n",
       "8.0       1\n",
       "Name: Principal_atitude, dtype: int64"
      ]
     },
     "execution_count": 365,
     "metadata": {},
     "output_type": "execute_result"
    }
   ],
   "source": [
    "df.Principal_atitude.value_counts()"
   ]
  },
  {
   "cell_type": "code",
   "execution_count": 366,
   "metadata": {},
   "outputs": [
    {
     "data": {
      "text/plain": [
       "1.0     157\n",
       "3.0      86\n",
       "4.0      71\n",
       "15.0     34\n",
       "5.0      29\n",
       "14.0     25\n",
       "9.0      20\n",
       "10.0     18\n",
       "12.0     17\n",
       "2.0      16\n",
       "6.0      11\n",
       "11.0      5\n",
       "13.0      4\n",
       "8.0       1\n",
       "Name: Principal_atitude, dtype: int64"
      ]
     },
     "execution_count": 366,
     "metadata": {},
     "output_type": "execute_result"
    }
   ],
   "source": [
    "#atitude em SP\n",
    "dfsp=df.loc[(df.UF == 35)]\n",
    "dfsp.Principal_atitude.value_counts()\n"
   ]
  },
  {
   "cell_type": "code",
   "execution_count": 367,
   "metadata": {},
   "outputs": [
    {
     "data": {
      "text/plain": [
       "15.0    26\n",
       "1.0     24\n",
       "3.0     20\n",
       "14.0    13\n",
       "9.0     11\n",
       "2.0      7\n",
       "4.0      6\n",
       "12.0     4\n",
       "7.0      4\n",
       "5.0      3\n",
       "6.0      2\n",
       "Name: Principal_atitude, dtype: int64"
      ]
     },
     "execution_count": 367,
     "metadata": {},
     "output_type": "execute_result"
    }
   ],
   "source": [
    "#atitude em RO\n",
    "dfro=df.loc[(df.UF == 14)]\n",
    "dfro.Principal_atitude.value_counts()"
   ]
  },
  {
   "cell_type": "code",
   "execution_count": 368,
   "metadata": {
    "scrolled": false
   },
   "outputs": [
    {
     "data": {
      "image/png": "[encoded data removed]",
      "text/plain": [
       "<matplotlib.figure.Figure at 0x1998a493358>"
      ]
     },
     "metadata": {},
     "output_type": "display_data"
    }
   ],
   "source": [
    "n_groups = 15\n",
    "\n",
    "SP = [157,16,86,71,29,11,0,1,20,18,5,17,4,25,34]\n",
    "RO = [24,7,20,6,3,2,4,0,11,0,0,4,0,13,26]\n",
    "\n",
    "SPpor = []\n",
    "for i in SP:\n",
    "    n = (i*100)/864\n",
    "    SPpor.append(n)\n",
    "    \n",
    "ROpor = []\n",
    "for i in RO:\n",
    "    n = (i*100)/186\n",
    "    ROpor.append(n)\n",
    "\n",
    " \n",
    "\n",
    "fig, ax = plt.subplots()\n",
    "index = np.arange(n_groups)\n",
    "bar_width = 0.35\n",
    "opacity = 0.8\n",
    " \n",
    "rects1 = plt.bar(index, SPpor, bar_width,\n",
    "                 alpha=opacity,\n",
    "                 color='b',\n",
    "                 label='SP')\n",
    " \n",
    "rects2 = plt.bar(index + bar_width, ROpor, bar_width,\n",
    "                 alpha=opacity,\n",
    "                 color='g',\n",
    "                 label='RO')\n",
    " \n",
    "plt.xlabel('Atitude')\n",
    "plt.ylabel('% no estado dentro dos sem $ para alimentação saudável')\n",
    "plt.title('Atitude ao faltar $ para alimento (2013)')\n",
    "plt.xticks(index + bar_width, ('1', '2', '3', '4', '5', '6', '7', '8', '9', '10', '11', '12', '13', '14', '15'))\n",
    "plt.legend()\n",
    " \n",
    "plt.tight_layout()\n",
    "plt.show()"
   ]
  },
  {
   "cell_type": "markdown",
   "metadata": {},
   "source": [
    "obs: a soma da porcentagem de cada estado é a porcentagem da amostra que passou fome que respondeu qual atitude tomou"
   ]
  },
  {
   "cell_type": "markdown",
   "metadata": {},
   "source": [
    "### Índice de atitudes:\n",
    "<p>1-Pediram alimentos emprestados a parentes, vizinhos e/ou amigos</p>\n",
    "<p>2-Prestaram pequenos serviços a parentes e amigos em troca de alimentos</p>\n",
    "<p>3-Compraram fiado</p>\n",
    "<p>4-Deixaram de comprar alimentos supérfluos (biscoitos, refrigerantes, ...)</p>\n",
    "<p>5-Comeram menos carnes</p>\n",
    "<p>6-Comeram menos frutas, verduras e legumes</p>\n",
    "<p>7-Foram pescar, caçar e colher frutos</p>\n",
    "<p>8-Xeparam em feiras e mercados e aproveitaram alimentos</p>\n",
    "<p>9-Procuraram emprego (emprego melhor ou um segundo emprego; pequenos serviços; um membro da família que não trabalhava arrumou emprego etc.)</p>\n",
    "<p>10-Receberam ajuda de associação religiosa, igreja</p>\n",
    "<p>11-Receberam ajuda do governo municipal, estadual, federal</p>\n",
    "<p>12-Receberam alimentos da comunidade, vizinhos, parentes e amigos</p>\n",
    "<p>13-Cadastraram-se em algum programa governamental de assistência social</p>\n",
    "<p>14-Não fizeram nada</p>\n",
    "<p>15-Pediram dinheiro emprestado</p>"
   ]
  },
  {
   "cell_type": "markdown",
   "metadata": {
    "collapsed": true
   },
   "source": [
    "### Conclusão parcial Parte 2: Pode-se observar formas de agir muito distintas entre os dois estados quando o assunto é que atitude tomar ao faltar dinheiro para se alimentar. Enquanto SP tem maior preferência por pedir alimentos emprestados a parentes, vizinhos e/ou amigos, a preferência dos habitantes de Roraima é pedir dinheiro emprestado, alternativa que não se mostra tão popular em SP"
   ]
  },
  {
   "cell_type": "markdown",
   "metadata": {},
   "source": [
    "## Parte 3 - Traçando o perfil da residência dos que ficaram sem dinheiro para se alimentarem por uma variável quantitativa e uma qualitativa "
   ]
  },
  {
   "cell_type": "code",
   "execution_count": 369,
   "metadata": {},
   "outputs": [],
   "source": [
    "dfperfil = df.dropna()\n",
    "df2009perfil = df2009.dropna()\n",
    "\n",
    "df2009perfilsp = df2009perfil.loc[(df2009perfil.UF == 35)]\n",
    "df2009perfilro = df2009perfil.loc[(df2009perfil.UF == 14)]\n",
    "\n",
    "dfperfilsp = dfperfil.loc[(dfperfil.UF == 35)]\n",
    "dfperfilro = dfperfil.loc[(dfperfil.UF == 14)]\n"
   ]
  },
  {
   "cell_type": "markdown",
   "metadata": {},
   "source": [
    "### Variável qualitativa - Presença de água canalizada:"
   ]
  },
  {
   "cell_type": "code",
   "execution_count": 370,
   "metadata": {},
   "outputs": [
    {
     "data": {
      "text/plain": [
       "Sim    91.855204\n",
       "Não     8.144796\n",
       "Name: Agua_canalizada, dtype: float64"
      ]
     },
     "execution_count": 370,
     "metadata": {},
     "output_type": "execute_result"
    }
   ],
   "source": [
    "df2009perfilro.Agua_canalizada.value_counts(normalize=True)*100"
   ]
  },
  {
   "cell_type": "code",
   "execution_count": 371,
   "metadata": {},
   "outputs": [
    {
     "data": {
      "text/plain": [
       "Sim    97.962747\n",
       "Não     2.037253\n",
       "Name: Agua_canalizada, dtype: float64"
      ]
     },
     "execution_count": 371,
     "metadata": {},
     "output_type": "execute_result"
    }
   ],
   "source": [
    "df2009perfilsp.Agua_canalizada.value_counts(normalize=True)*100"
   ]
  },
  {
   "cell_type": "code",
   "execution_count": 372,
   "metadata": {},
   "outputs": [
    {
     "data": {
      "text/plain": [
       "Sim    91.666667\n",
       "Não     8.333333\n",
       "Name: Agua_canalizada, dtype: float64"
      ]
     },
     "execution_count": 372,
     "metadata": {},
     "output_type": "execute_result"
    }
   ],
   "source": [
    "dfperfilro.Agua_canalizada.value_counts(normalize=True)*100"
   ]
  },
  {
   "cell_type": "code",
   "execution_count": 373,
   "metadata": {},
   "outputs": [
    {
     "data": {
      "text/plain": [
       "Sim    96.502058\n",
       "Não     3.497942\n",
       "Name: Agua_canalizada, dtype: float64"
      ]
     },
     "execution_count": 373,
     "metadata": {},
     "output_type": "execute_result"
    }
   ],
   "source": [
    "dfperfilsp.Agua_canalizada.value_counts(normalize=True)*100"
   ]
  },
  {
   "cell_type": "code",
   "execution_count": 374,
   "metadata": {},
   "outputs": [
    {
     "data": {
      "image/png": "[encoded data removed]",
      "text/plain": [
       "<matplotlib.figure.Figure at 0x19989bdb278>"
      ]
     },
     "metadata": {},
     "output_type": "display_data"
    },
    {
     "name": "stdout",
     "output_type": "stream",
     "text": [
      "RO: Sim =  91.855204%, Não= 8.144796%\n",
      "SP: Sim = 97.962747%, Não= 2.037253\n"
     ]
    },
    {
     "data": {
      "image/png": "[encoded data removed]",
      "text/plain": [
       "<matplotlib.figure.Figure at 0x199899a5c18>"
      ]
     },
     "metadata": {},
     "output_type": "display_data"
    },
    {
     "name": "stdout",
     "output_type": "stream",
     "text": [
      "RO: Sim =  91.666667%, Não= 8.333333%\n",
      "SP: Sim = 96.502058%, Não= 3.497942\n"
     ]
    }
   ],
   "source": [
    "al = 2\n",
    "means_aguasim = (97.962747,  91.855204)\n",
    "means_aguanao = (2.037253,8.144796)\n",
    "\n",
    " \n",
    "\n",
    "fig, ax = plt.subplots()\n",
    "index = np.arange(al)\n",
    "bar_width = 0.35\n",
    "opacity = 0.8\n",
    " \n",
    "rects1 = plt.bar(index, means_aguasim, bar_width,\n",
    "                 alpha=opacity,\n",
    "                 color='b',\n",
    "                 label='Sim')\n",
    " \n",
    "rects2 = plt.bar(index + bar_width, means_aguanao, bar_width,\n",
    "                 alpha=opacity,\n",
    "                 color='r',\n",
    "                 label='Não')\n",
    "\n",
    " \n",
    "plt.xlabel('Estado')\n",
    "plt.ylabel('%')\n",
    "plt.title('Presença de água canalizada 2009')\n",
    "plt.xticks( index + bar_width, ('SP', 'RO'))\n",
    "plt.legend()\n",
    " \n",
    "plt.tight_layout()\n",
    "plt.show()\n",
    "\n",
    "print(\"RO: Sim =  91.855204%, Não= 8.144796%\")\n",
    "print(\"SP: Sim = 97.962747%, Não= 2.037253\")\n",
    "\n",
    "\n",
    "\n",
    "al = 2\n",
    "means_aguasim2 = (96.502058,  91.666667)\n",
    "means_aguanao2 = (3.497942, 8.333333)\n",
    "\n",
    " \n",
    "\n",
    "fig, ax = plt.subplots()\n",
    "index = np.arange(al)\n",
    "bar_width = 0.35\n",
    "opacity = 0.8\n",
    " \n",
    "rects1 = plt.bar(index, means_aguasim2, bar_width,\n",
    "                 alpha=opacity,\n",
    "                 color='b',\n",
    "                 label='Sim')\n",
    " \n",
    "rects2 = plt.bar(index + bar_width, means_aguanao2, bar_width,\n",
    "                 alpha=opacity,\n",
    "                 color='r',\n",
    "                 label='Não')\n",
    "\n",
    " \n",
    "plt.xlabel('Estado')\n",
    "plt.ylabel('%')\n",
    "plt.title('Presença de água canalizada 2013')\n",
    "plt.xticks( index + bar_width, ('SP', 'RO'))\n",
    "plt.legend()\n",
    " \n",
    "plt.tight_layout()\n",
    "plt.show()\n",
    "\n",
    "print(\"RO: Sim =  91.666667%, Não= 8.333333%\")\n",
    "print(\"SP: Sim = 96.502058%, Não= 3.497942\")\n"
   ]
  },
  {
   "cell_type": "markdown",
   "metadata": {},
   "source": [
    "### Em relação à água canalizada, podemos observar que houve muita pouca mudança na porcentagem entre 2009 e 2013, tanto para Roraima quanto para São Paulo. Os 2 estados tiveram uma diminuição, praticamente insignificante, na porcentagem de moradias com água canalizada. Observa-se também que SP tem consideravelmente maior porcentagem de domicílios com água canalizada"
   ]
  },
  {
   "cell_type": "markdown",
   "metadata": {
    "collapsed": true
   },
   "source": [
    "### Variável quantitativa - Renda:"
   ]
  },
  {
   "cell_type": "code",
   "execution_count": 375,
   "metadata": {},
   "outputs": [
    {
     "data": {
      "image/png": "[encoded data removed]",
      "text/plain": [
       "<matplotlib.figure.Figure at 0x19989c6c0b8>"
      ]
     },
     "metadata": {},
     "output_type": "display_data"
    },
    {
     "data": {
      "image/png": "[encoded data removed]",
      "text/plain": [
       "<matplotlib.figure.Figure at 0x1998a6f8cc0>"
      ]
     },
     "metadata": {},
     "output_type": "display_data"
    },
    {
     "data": {
      "image/png": "[encoded data removed]",
      "text/plain": [
       "<matplotlib.figure.Figure at 0x199892ea668>"
      ]
     },
     "metadata": {},
     "output_type": "display_data"
    },
    {
     "data": {
      "image/png": "[encoded data removed]",
      "text/plain": [
       "<matplotlib.figure.Figure at 0x1998931dcc0>"
      ]
     },
     "metadata": {},
     "output_type": "display_data"
    }
   ],
   "source": [
    "faixas=np.arange(0.5,5,0.5)\n",
    "\n",
    "\n",
    "\n",
    "plot=df2009perfilro.Rendimento_mensal_per_capita_por_SM.plot.hist(bins=faixas, title='Renda por Salários Mínimos RO 2009', figsize=(6,6), alpha=0.5)\n",
    "plt.ylabel('Domicílios')    \n",
    "plt.xlabel('Salários mínimos per capita')    \n",
    "plt.show()  \n",
    "\n",
    "plot=df2009perfilsp.Rendimento_mensal_per_capita_por_SM.plot.hist(bins=faixas, title='Renda por Salários Mínimos SP 2009', figsize=(6,6), alpha=0.5)\n",
    "plt.ylabel('Domicílios')    \n",
    "plt.xlabel('Salários mínimos per capita')    \n",
    "plt.show()  \n",
    "\n",
    "\n",
    "plot=dfperfilro.Rendimento_mensal_per_capita_por_SM.plot.hist(bins=faixas, title='Renda por Salários Mínimos RO 2013', figsize=(6,6), alpha=0.5)\n",
    "plt.ylabel('Domicílios')    \n",
    "plt.xlabel('Salários mínimos per capita')    \n",
    "plt.show()  \n",
    "\n",
    "\n",
    "plot=dfperfilsp.Rendimento_mensal_per_capita_por_SM.plot.hist(bins=faixas, title='Renda por Salários Mínimos SP 2013', figsize=(6,6), alpha=0.5)\n",
    "plt.ylabel('Domicílios')    \n",
    "plt.xlabel('Salários mínimos per capita')    \n",
    "plt.show()                                                    "
   ]
  },
  {
   "cell_type": "markdown",
   "metadata": {},
   "source": [
    "## Conclusão Final"
   ]
  },
  {
   "cell_type": "markdown",
   "metadata": {},
   "source": [
    "Ao longo do projeto, foram avaliadas dversas variáveis e suas relaçoes com a segurança alimentar nos estados de Roraima e São Paulo.\n",
    "\n",
    "Resumindo, primeiramente a PNAD foi filtrada para trabalhar apenas com esses dois estados, e apenas com domicílios que ja tiveram problemas financeiros para se alimentar adequadamente.\n",
    "\n",
    "Antes de de fato usar essa PNAD filtrada, foi descoberto algo muito impactante: o percentual de entrevistados que já ficaram sem dinheiro para se alimentar de maneira saudável é absurdamente maior em Roraima, comprovando que este estado sofre mais com a insegurança alimentar do que o estado de SP. Outra observação interessante foi a da expressiva melhora neste quesito, em ambos estados, de 2009 para 2013. (Ver mais informaçoes na \"Parte 1\"). \n",
    "\n",
    "Em uma próxima etapa, procurou-se saber melhor como agiram os que sofreram com falta de dinheiro para alimentarem-se, e comparar essas atitudes entre os estados. Muitas diferenças na maneira de proceder foram identificadas. As atitudes mais frequentes entre os paulistas são, em ordem: Pedir alimentos emprestados a parentes, vizinhos e/ou amigos, comprar fiado, deixar de comprar alimentos supérfluos e pedir dinheiro emprestado. Deixar de comprar alimentos supérfulos não é uma medida muito popular em Roraima, o que talvez indica um habito alimentar do estado. Já em roraima, as atitudes mais comuns em ordem são: Pedir dinheiro emprestado, pedir alimentos emprestados a parentes, vizinhos e/ou amigos, comprar fiado e simplesemnte não fazer nada, o que pode indicar uma menor preocupação com a falta de alimento por ser muito mais comum nesse estado ou por haver menos condiçoes de tomar outra atitude. Outro fato interessante é que os paulistas não costumam pedir dinheiro emprestado nessas situações. Por fim também vale ressaltar que a resposta \"comer menos carne\" foi pouco dada nesses 2 estados, assim infere-se que carne deve ser uma parte importante e cultural da alimentação destes locais.\n",
    "\n",
    "Na ultima parte, verificou-se a diferença dos domcílios dos dois edtados nos fatores água canalizada e renda mensal per capita. Era esperado encontrar maiores diferenças, na minha opinião. A diferença de porcentagem de domicílios com agua canalizada em SP e RO manteve-se em aproximadamente 5% nos dois anos. É importnate apontar que não houve melhora nesse quesito entre 2009 e 2013 em nenhum dos estados. Também esperava-se maior diferença entre os histogramas de renda, devido á diferença de PIB entre os estados, porém a diferença não foi tão grande. Devido a isso, posso concluir que a diferença na segurança alimentar deve-se mais ao PIB do estado do que a renda do domicílio. Com a mesma renda, provavelmente, deve ser mais fácil ter segurança alimentar em SP do que em RO, visto a infraestrutura e as políticas públicas que podem ser mais eficientes com mais dinheiro.\n",
    "\n",
    "\n",
    "\n",
    "\n",
    "obs: os NANs nao foram filtrados para a parte 1 e 2 do projeto, pois estava trabalhando apenas com o numero de pessoas que tinham insegurança alimentar frente ao total de pessoas, e meu dataframe filtrado continha apenas as pessoas que sofreram com insegurança alimentar. Filtar os Nans nesse caso não faria sentido pois eliminaria linhas devido a variavel que só foi usadaa na parte 3 (canalização da água). Ou seja, primeiramente tive uma visão geral de todos que sofreram segurança alimentar, não fazendo diferença nenhum outro aspecto. Depois, reduzi mais ainda meu dataframe para que contesse todas as colunas respondidas, pois usaria esse ultimo filtro apenas na parte 3."
   ]
  }
 ],
 "metadata": {
  "kernelspec": {
   "display_name": "Python 3",
   "language": "python",
   "name": "python3"
  },
  "language_info": {
   "codemirror_mode": {
    "name": "ipython",
    "version": 3
   },
   "file_extension": ".py",
   "mimetype": "text/x-python",
   "name": "python",
   "nbconvert_exporter": "python",
   "pygments_lexer": "ipython3",
   "version": "3.6.1"
  }
 },
 "nbformat": 4,
 "nbformat_minor": 2
}
